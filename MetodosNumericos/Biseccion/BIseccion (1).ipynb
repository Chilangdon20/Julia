{
 "cells": [
  {
   "cell_type": "markdown",
   "metadata": {},
   "source": [
    "# Metodo de Biseccion.\n",
    "\n",
    "Este método , que se utiliza para resolver ecuaciones de una variable, está basado en el **«Teorema de los Valores Intermedios» (TVM)**, en el cual se establece que **toda función continua** $f$, en un intervalo cerrado $[a,b]$, toma todos los valores que se hallan entre $f(a)$ y $f(b)$, de tal forma que la ecuación $f(x)=0$ tiene una sola raíz que verifica $f(a).f(b)<0$.\n",
    "\n",
    "\n",
    "![](https://matematica.laguia2000.com/wp-content/uploads/2011/03/032011_1646_Mtododebise13.png)\n",
    "\n",
    "EN otras palabras , que dicha funcion viaja del punto $a$ al punto $b$ , ha de pasar por $m$ , que es cuando la funcion se hace 0 , ese punto es el qe buscamos.\n",
    "\n",
    "En pocas palabras, consiste en ir dividiendo la función que hemos visto arriba en subintervalos, y **hallar los puntos medios de cada uno de ellos** $(m)$, quedándonos una cosa así:\n",
    "\n",
    "\n",
    "\n",
    "![](https://matematica.laguia2000.com/wp-content/uploads/2011/03/032011_1646_Mtododebise21.png)\n",
    "\n",
    "## Nuestra receta de Cocina:\n",
    "\n",
    "1. Elegimos dos valores $a_1$ y $b_2$ , de tal forma que la funcion cambie de signo.\n",
    "\n",
    "$$f(a_1)f(b_2) < 0$$\n",
    "\n",
    "2. Realizamos la primera aproimacion a la raiz , mediante la formula de punto medio.\n",
    "\n",
    "![](https://matematica.laguia2000.com/wp-content/uploads/2011/03/032011_1646_Mtododebise41.png)\n",
    "\n",
    "\n",
    "**Nota, usamos los puntos, no las funciones!! Es decir, lo que está dentro del paréntesis, NO se debe poner aquí el resultado de sustituir en la función.**\n",
    "\n",
    "\n",
    "3. Determinamos en que subintervalo se encuentra la raiz:\n",
    "\n",
    "   * Si $f(a_1)f(m_1) <0 $ , entonces la raiz esta en el subintervalo $[a_1,m_1]$ y  $ b_1 = m_1$.\n",
    "   \n",
    "   * si $f(a_1)f(m_1)>0$, entonces la raíz está en el subintervalo $[b_1, m_1]$ y $a_1=m_1$.\n",
    "   \n",
    "   * Si $f(a_1)f(m_1)=0$, entonces aquí se encuentra la raíz.\n",
    "   \n",
    "Hasta este punto es ir hallando mitades sucesiamente hasta llegar al intervalo que nos de igual  cero.\n",
    "\n",
    "4. Calculas una nueva aproximacion de la raiz\n",
    "\n",
    "\n",
    "\n",
    "![](https://matematica.laguia2000.com/wp-content/uploads/2011/03/032011_1646_Mtododebise41.png)\n",
    "\n",
    "\n",
    "5. Evaluar el vlor medio relativo aproximado:\n",
    "\n",
    "![](https://matematica.laguia2000.com/wp-content/uploads/2011/03/032011_1646_Mtododebise61.png)\n",
    "\n",
    "Entonces ,si:\n",
    "\n",
    "![](https://matematica.laguia2000.com/wp-content/uploads/2011/03/032011_1646_Mtododebise71.png)\n",
    "\n",
    "\n",
    "Si no cumple la condicion,volver al paso 3.\n",
    "\n",
    "---\n",
    "\n",
    "## Implementacion en codigo:\n",
    "\n"
   ]
  },
  {
   "cell_type": "code",
   "execution_count": 8,
   "metadata": {},
   "outputs": [
    {
     "data": {
      "text/plain": [
       "biseccion (generic function with 1 method)"
      ]
     },
     "execution_count": 8,
     "metadata": {},
     "output_type": "execute_result"
    }
   ],
   "source": [
    "function biseccion(f::Function, a::Number, b::Number;\n",
    "                   tol::AbstractFloat=1e-5, maxiter::Integer=100)\n",
    "    fa = f(a)\n",
    "    fa*f(b) <= 0 || error(\"Sin raíz real en [a, b]\")\n",
    "    i = 0\n",
    "    local c\n",
    "    while b-a > tol\n",
    "        i += 1\n",
    "        i != maxiter || error(\"Se supero la iteracion maxima\")\n",
    "        c = (a+b)/2\n",
    "        fc = f(c)\n",
    "        if fc == 0\n",
    "            break\n",
    "        elseif fa*fc > 0\n",
    "            a = c  # # La raíz está en la mitad derecha de [a, b].\n",
    "            fa = fc\n",
    "        else\n",
    "            b = c  # # La raíz está en la mitad izquierda de [a, b].\n",
    "        end\n",
    "    end\n",
    "    return c\n",
    "end\n"
   ]
  },
  {
   "cell_type": "markdown",
   "metadata": {},
   "source": [
    "Para la ecuacion $f(x) + x^2 -2,(x∈[0,2])$, la solucion es: $x = +sqrt{2}$"
   ]
  },
  {
   "cell_type": "code",
   "execution_count": 9,
   "metadata": {},
   "outputs": [
    {
     "name": "stdout",
     "output_type": "stream",
     "text": [
      "La raiz es: 1.4142074584960938\n"
     ]
    }
   ],
   "source": [
    "resultado =  biseccion(x -> x^2-2,0,2)\n",
    "println(\"La raiz es: \" ,resultado)"
   ]
  }
 ],
 "metadata": {
  "kernelspec": {
   "display_name": "Julia 1.1.1",
   "language": "julia",
   "name": "conda-env-julia-julia-1.1"
  },
  "language_info": {
   "file_extension": ".jl",
   "mimetype": "application/julia",
   "name": "julia",
   "version": "1.1.1"
  }
 },
 "nbformat": 4,
 "nbformat_minor": 4
}
